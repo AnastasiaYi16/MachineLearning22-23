{
 "cells": [
  {
   "cell_type": "markdown",
   "id": "0104af3e",
   "metadata": {},
   "source": [
    "# Lab1 #"
   ]
  },
  {
   "cell_type": "markdown",
   "id": "2e55592d",
   "metadata": {},
   "source": [
    "## 1. Import libraries"
   ]
  },
  {
   "cell_type": "code",
   "execution_count": 1,
   "id": "84708d92",
   "metadata": {},
   "outputs": [],
   "source": [
    "import numpy as np\n",
    "import pandas as pd\n",
    "import matplotlib.pyplot as plt\n",
    "import seaborn as sns\n",
    "import math\n",
    "\n",
    "from skimage import io\n",
    "from sklearn.datasets import load_boston\n",
    "from sklearn.preprocessing import StandardScaler\n",
    "from sklearn.model_selection import train_test_split\n",
    "from sklearn.linear_model import LinearRegression\n",
    "from sklearn.metrics import mean_squared_error"
   ]
  },
  {
   "cell_type": "markdown",
   "id": "74747d90",
   "metadata": {},
   "source": [
    "## 2. Numpy\n",
    "\n",
    "### 2.1 Array Basics\n",
    "\n",
    "A = np.array([[2, 3], [4, -1], [5, 6]])\n",
    "\n",
    "B = np.array([[5, 2], [8, 9], [2, 1]])\n",
    "\n",
    "C1 = 3A\n",
    "\n",
    "C2 = A+B\n",
    "\n",
    "C3 = A.BT (dot product or inner product)\n",
    "\n",
    "C4 = A * B (Hadamard product or elementwise product)"
   ]
  },
  {
   "cell_type": "code",
   "execution_count": 18,
   "id": "740dd538",
   "metadata": {},
   "outputs": [
    {
     "name": "stdout",
     "output_type": "stream",
     "text": [
      "(3, 2)\n",
      "C1:\n",
      "[[ 6  9]\n",
      " [12 -3]\n",
      " [15 18]]\n",
      "C2:\n",
      "[[ 7  5]\n",
      " [12  8]\n",
      " [ 7  7]]\n",
      "C3:\n",
      "[[16 43  7]\n",
      " [18 23  7]\n",
      " [37 94 16]]\n",
      "C4:\n",
      "[[10  6]\n",
      " [32 -9]\n",
      " [10  6]]\n"
     ]
    }
   ],
   "source": [
    "A = np.array([[2, 3], [4, -1], [5, 6]])\n",
    "B = np.array([[5, 2], [8, 9], [2, 1]])\n",
    "\n",
    "C1 = 3 * A\n",
    "print (\"C1:\")\n",
    "print (C1)\n",
    "\n",
    "C2 = A + B\n",
    "print (\"C2:\")\n",
    "print (C2)\n",
    "\n",
    "C3 = np.dot(A,B.T)\n",
    "print (\"C3:\")\n",
    "print (C3)\n",
    "\n",
    "C4 = np.multiply(A,B)\n",
    "print (\"C4:\")\n",
    "print (C4)"
   ]
  },
  {
   "cell_type": "markdown",
   "id": "ae232dd0",
   "metadata": {},
   "source": [
    "Calculate now the *sum*, *mean*, and *variance* of the matrix A, using NumPy functions/array properties mean, sum, var.\n",
    "\n",
    "Afterwards, calculate the sum of the rows and then the columns of A. Hint, specify the parameter axis.\n"
   ]
  },
  {
   "cell_type": "code",
   "execution_count": 14,
   "id": "ff2c75d9",
   "metadata": {},
   "outputs": [
    {
     "name": "stdout",
     "output_type": "stream",
     "text": [
      "mean of A:\n",
      "3.1666666666666665\n",
      "sum of A:\n",
      "19\n",
      "variance of A:\n",
      "5.138888888888888\n",
      "sum of rows:\n",
      "[ 5  3 11]\n",
      "sum of columns:\n",
      "[11  8]\n"
     ]
    }
   ],
   "source": [
    "m = np.mean(A)\n",
    "print(\"mean of A:\")\n",
    "print(m)\n",
    "\n",
    "s = np.sum(A)\n",
    "print(\"sum of A:\")\n",
    "print(s)\n",
    "\n",
    "v = np.var(A)\n",
    "print(\"variance of A:\")\n",
    "print(v)\n",
    "\n",
    "sum_row = np.sum(A, axis=1)\n",
    "print(\"sum of rows:\")\n",
    "print(sum_row)\n",
    "sum_col = np.sum(A, axis=0)\n",
    "print(\"sum of columns:\")\n",
    "print(sum_col)"
   ]
  },
  {
   "cell_type": "markdown",
   "id": "0ac76313",
   "metadata": {},
   "source": [
    "### 2.2 Sigmoid Function\n",
    "\n",
    "The sigmoid function is a non-linear function used in machine learning (logistic regression) and also deep learning (as an activation function).\n",
    "\n",
    "### <center> $ sigmoid(x) = {1 \\over 1+e^{-x}} $ </center>\n",
    "\n",
    "<br> where x could now be either a real number, a vector, or a matrix. </br>\n",
    "<br>**Question: how to calculate sigmoid of vector or a matrix?**</br>\n",
    "*The sigmoid function takes a single value input and produces an output that lies between -1 and 1, the only way to apply the sigmoid function to a vector or a matrix is by plugging in each element of the vector/matrix into the sigmoid function and storing its value.*\n",
    "\n",
    "\n",
    "\n",
    "Implement the sigmoid function by defining a function called sigmoid which takes 1 argument x, a scalar or numpy array of any size and outputs the *sigmoid(x)*.\n",
    "\n",
    "What is the sigmoid of the array:\n",
    "\n",
    "A = np.array([-5, 0, 5])\n",
    "\n",
    "Plot the sigmoid curve for $ x \\in [-5,5] $"
   ]
  },
  {
   "cell_type": "code",
   "execution_count": 10,
   "id": "f1e0a5e4",
   "metadata": {},
   "outputs": [
    {
     "name": "stdout",
     "output_type": "stream",
     "text": [
      "[0.0066928509242848554, 0.5, 0.9933071490757153]\n"
     ]
    },
    {
     "data": {
      "image/png": "[encoded data removed]",
      "text/plain": [
       "<Figure size 432x288 with 1 Axes>"
      ]
     },
     "metadata": {
      "needs_background": "light"
     },
     "output_type": "display_data"
    }
   ],
   "source": [
    "def sigmoid(x):\n",
    "    s = []\n",
    "    for i in x:\n",
    "        s.append(1/(1+math.exp(-i)))\n",
    "    return s\n",
    "\n",
    "A = np.array([-5, 0, 5])\n",
    "sA = sigmoid(A)\n",
    "print(sA)\n",
    "\n",
    "x = np.arange(-5.,5.,0.1)\n",
    "## np.arange([start, ]stop, [step, ]dtype=None, *, like=None)\n",
    "plt.plot(x,sigmoid(x))\n",
    "plt.show()\n"
   ]
  },
  {
   "cell_type": "markdown",
   "id": "c83614df",
   "metadata": {},
   "source": [
    "### 2.3 Standardise columns using numpy\n",
    "\n",
    "To standardise a dataset we center the data by subtracting the mean of each feature, then scale by dividing by the standard deviation of the feature. Assuming the data is arranged with features in columns and training instances in rows, standardisation will result in each column vector of the data matrix having a mean of 0 and standard deviation of 1.\n",
    "\n",
    "### <center> $ z = {{x - µ} \\over σ} $ </center>\n",
    "\n",
    "Implement a standardiseCols(x) function to standardise the columns of a numpy array.\n",
    "\n"
   ]
  },
  {
   "cell_type": "code",
   "execution_count": 15,
   "id": "42a31d4b",
   "metadata": {},
   "outputs": [
    {
     "name": "stdout",
     "output_type": "stream",
     "text": [
      "[[-1.71105548  1.71105548]\n",
      " [-1.33082093  1.33082093]\n",
      " [-0.95058638  0.95058638]\n",
      " [-0.57035183  0.57035183]\n",
      " [-0.19011728  0.19011728]\n",
      " [ 0.19011728 -0.19011728]]\n",
      "[[-0.90889326 -0.04783649  0.52620136]\n",
      " [-0.62187434  0.81322028  0.23918244]\n",
      " [-0.04783649 -1.48293111  1.38725813]\n",
      " [-1.19591218 -0.62187434  1.96129598]]\n"
     ]
    }
   ],
   "source": [
    "def standardiseCols(x):\n",
    "    z = (x - x.mean())/(x.std())\n",
    "    return z\n",
    "## 答案好像不对\n",
    "\n",
    "X = np.array([\n",
    "    [1, 10], \n",
    "    [2, 9], \n",
    "    [3, 8], \n",
    "    [4, 7], \n",
    "    [5, 6], \n",
    "    [6, 5]])\n",
    "s1 = standardiseCols(X)\n",
    "print(s1)\n",
    "\n",
    "Y = np.array([\n",
    "    [0, 3, 5],\n",
    "    [1, 6, 4],\n",
    "    [3, -2, 8],\n",
    "    [-1, 1, 10]])\n",
    "s2 = standardiseCols(Y)\n",
    "print(s2)\n"
   ]
  },
  {
   "cell_type": "markdown",
   "id": "f18189d1",
   "metadata": {},
   "source": [
    "### 2.4 Reshaping numpy arrays\n",
    "The attribute <code>np.shape</code> and function <code>np.reshape()</code> are commonly used in machine learning:\n",
    "\n",
    "<br><code>X.shape</code> is used to get the shape (dimension) of a matrix/vector X.</br>\n",
    "<code>X.reshape(...)</code> is used to create a new array containing the elements of X with the provided shape.\n",
    "\n",
    "For example, in computer vision, an image is represented by a 3D array of shape *(length, height, color)* where the colour represents the three RGB (red, green, blue) channels. Lets first load and plot the image. In order for the image to be given as an input into a machine learning algorithm, the 3D array needs to be reshaped to a vector of shape *(length\\*height\\*3, 1)*, that's your task below."
   ]
  },
  {
   "cell_type": "code",
   "execution_count": 17,
   "id": "ea96f1e1",
   "metadata": {},
   "outputs": [
    {
     "data": {
      "text/plain": [
       "(606, 812, 4)"
      ]
     },
     "execution_count": 17,
     "metadata": {},
     "output_type": "execute_result"
    },
    {
     "data": {
      "image/png": "[encoded data removed]",
      "text/plain": [
       "<Figure size 432x288 with 1 Axes>"
      ]
     },
     "metadata": {
      "needs_background": "light"
     },
     "output_type": "display_data"
    }
   ],
   "source": [
    "image = io.imread('flower.png')\n",
    "io.imshow(image)\n",
    "image.shape"
   ]
  },
  {
   "cell_type": "markdown",
   "id": "b031f300",
   "metadata": {},
   "source": [
    "Reshape the image array to vector v and print the shape of the created vector:"
   ]
  },
  {
   "cell_type": "code",
   "execution_count": 28,
   "id": "b34fdca8",
   "metadata": {},
   "outputs": [
    {
     "name": "stdout",
     "output_type": "stream",
     "text": [
      "(1968288, 1)\n"
     ]
    }
   ],
   "source": [
    "v = image.shape\n",
    "arr = np.asarray(v) # convert tuple variable to array\n",
    "newArray = image.reshape((v[0]*v[1]*v[2], 1)) # (length*height*3, 1) not working\n",
    "print(newArray.shape)"
   ]
  },
  {
   "cell_type": "markdown",
   "id": "4dbfbdb3",
   "metadata": {},
   "source": [
    "### \\*Note on array dimensions\n",
    "\n",
    "The array *a* below is a 1-dimensional array which has some slightly non-intuitive effects, such **as the transpose is the same**."
   ]
  },
  {
   "cell_type": "code",
   "execution_count": 29,
   "id": "b2363f81",
   "metadata": {},
   "outputs": [
    {
     "name": "stdout",
     "output_type": "stream",
     "text": [
      "[0 1 2 3 4]\n",
      "(5,)\n",
      "[0 1 2 3 4]\n",
      "(5,)\n"
     ]
    }
   ],
   "source": [
    "a = np.arange(5)\n",
    "print(a)\n",
    "print(a.shape)\n",
    "print(a.T)\n",
    "print(a.T.shape)"
   ]
  },
  {
   "cell_type": "markdown",
   "id": "6a729136",
   "metadata": {},
   "source": [
    "1-D arrays should be avoided and instead column or row vectors should be used which can be formed from 1-D arrays using reshape. Note the double square bracket.\n",
    "\n",
    "The row vector of a is:"
   ]
  },
  {
   "cell_type": "code",
   "execution_count": 30,
   "id": "e683c698",
   "metadata": {},
   "outputs": [
    {
     "name": "stdout",
     "output_type": "stream",
     "text": [
      "[[0 1 2 3 4]]\n"
     ]
    },
    {
     "data": {
      "text/plain": [
       "(1, 5)"
      ]
     },
     "execution_count": 30,
     "metadata": {},
     "output_type": "execute_result"
    }
   ],
   "source": [
    "a = a.reshape(1,-1)\n",
    "print(a)\n",
    "a.shape"
   ]
  },
  {
   "cell_type": "markdown",
   "id": "86634425",
   "metadata": {},
   "source": [
    "The column vector of a is:"
   ]
  },
  {
   "cell_type": "code",
   "execution_count": 31,
   "id": "799690f8",
   "metadata": {},
   "outputs": [
    {
     "name": "stdout",
     "output_type": "stream",
     "text": [
      "[[0]\n",
      " [1]\n",
      " [2]\n",
      " [3]\n",
      " [4]]\n"
     ]
    },
    {
     "data": {
      "text/plain": [
       "(5, 1)"
      ]
     },
     "execution_count": 31,
     "metadata": {},
     "output_type": "execute_result"
    }
   ],
   "source": [
    "a = a.reshape(-1,1)\n",
    "print(a)\n",
    "a.shape"
   ]
  },
  {
   "cell_type": "markdown",
   "id": "b1fed473",
   "metadata": {},
   "source": [
    "You can check the dimensions are what you want by using the assert command:"
   ]
  },
  {
   "cell_type": "code",
   "execution_count": 32,
   "id": "e5bdccd7",
   "metadata": {},
   "outputs": [],
   "source": [
    "assert(a.shape == (5,1))"
   ]
  },
  {
   "cell_type": "markdown",
   "id": "ef0a8c59",
   "metadata": {},
   "source": [
    "### \\*Note on function and object property\n",
    "\n",
    "<p>As Python is an object oriented language, the difference between *function* and *object* property should be understood.</p>\n",
    "An object instance, e.g. NumPy array <code>A = np.array([[1, 2], [3, 4], [5, 6]])</code> inherits all the functions from the class <code>numpy.ndarray</code>. Therefore, to sum all elements of array A we can choose two approaches:\n",
    "\n",
    "<code>A.sum()</code> or\n",
    "<code>np.sum(A)</code>. The first one is advisable.\n",
    "\n",
    "Moreover, some objects have properties (e.g. shape of an array). Instead of calling the shape function, an array object has the shape property, i.e.:\n",
    "\n",
    "<code>A.shape</code> and \n",
    "<code>np.shape(A)</code>. The first one is advisable.\n",
    "\n"
   ]
  },
  {
   "cell_type": "markdown",
   "id": "94cf9c7b",
   "metadata": {},
   "source": [
    "## 3. Scikit-Learn Basics\n",
    "\n",
    "### 3.1 Datasets\n",
    "\n",
    "Scikit-learn can be used to import datasets using the dataset loader to load small standard, or 'toy', datasets (such as iris classification or boston house pricing) or the dataset fetcher to download and load larger dataset from the ‘real world’.\n",
    "\n",
    "Firstly, load the Boston dataset and print the number of examples and features and feature names in the dataset. Note, load_boston has already been imported from sklearn.datasets.\n",
    "\n",
    "Then using seaborn create a pairplot (or scatterplot matrix) to show feature joint relationships and individual feature distributions. Note, **the data must be in a pandas dataframe**.\n",
    "\n",
    "Pairplots are a quick and effective way to perform exploratory data analysis (EDA) to find patterns, relationships and anomalies to guide subsequent analysis. A pairplot allows us to see both the distribution of single variables and relationships between two variables. As you can see below, a pairplot of 14 features is crowded and difficult to interpret.\n",
    "\n",
    "More info: https://seaborn.pydata.org/generated/seaborn.pairplot.html"
   ]
  },
  {
   "cell_type": "code",
   "execution_count": 2,
   "id": "17a90ae5",
   "metadata": {
    "scrolled": false
   },
   "outputs": [
    {
     "name": "stdout",
     "output_type": "stream",
     "text": [
      "        CRIM    ZN  INDUS  CHAS    NOX     RM   AGE     DIS  RAD    TAX  \\\n",
      "0    0.00632  18.0   2.31   0.0  0.538  6.575  65.2  4.0900  1.0  296.0   \n",
      "1    0.02731   0.0   7.07   0.0  0.469  6.421  78.9  4.9671  2.0  242.0   \n",
      "2    0.02729   0.0   7.07   0.0  0.469  7.185  61.1  4.9671  2.0  242.0   \n",
      "3    0.03237   0.0   2.18   0.0  0.458  6.998  45.8  6.0622  3.0  222.0   \n",
      "4    0.06905   0.0   2.18   0.0  0.458  7.147  54.2  6.0622  3.0  222.0   \n",
      "..       ...   ...    ...   ...    ...    ...   ...     ...  ...    ...   \n",
      "501  0.06263   0.0  11.93   0.0  0.573  6.593  69.1  2.4786  1.0  273.0   \n",
      "502  0.04527   0.0  11.93   0.0  0.573  6.120  76.7  2.2875  1.0  273.0   \n",
      "503  0.06076   0.0  11.93   0.0  0.573  6.976  91.0  2.1675  1.0  273.0   \n",
      "504  0.10959   0.0  11.93   0.0  0.573  6.794  89.3  2.3889  1.0  273.0   \n",
      "505  0.04741   0.0  11.93   0.0  0.573  6.030  80.8  2.5050  1.0  273.0   \n",
      "\n",
      "     PTRATIO       B  LSTAT  MEDV  \n",
      "0       15.3  396.90   4.98  24.0  \n",
      "1       17.8  396.90   9.14  21.6  \n",
      "2       17.8  392.83   4.03  34.7  \n",
      "3       18.7  394.63   2.94  33.4  \n",
      "4       18.7  396.90   5.33  36.2  \n",
      "..       ...     ...    ...   ...  \n",
      "501     21.0  391.99   9.67  22.4  \n",
      "502     21.0  396.90   9.08  20.6  \n",
      "503     21.0  396.90   5.64  23.9  \n",
      "504     21.0  393.45   6.48  22.0  \n",
      "505     21.0  396.90   7.88  11.9  \n",
      "\n",
      "[506 rows x 14 columns]\n"
     ]
    },
    {
     "name": "stderr",
     "output_type": "stream",
     "text": [
      "/opt/anaconda3/lib/python3.9/site-packages/sklearn/utils/deprecation.py:87: FutureWarning: Function load_boston is deprecated; `load_boston` is deprecated in 1.0 and will be removed in 1.2.\n",
      "\n",
      "    The Boston housing prices dataset has an ethical problem. You can refer to\n",
      "    the documentation of this function for further details.\n",
      "\n",
      "    The scikit-learn maintainers therefore strongly discourage the use of this\n",
      "    dataset unless the purpose of the code is to study and educate about\n",
      "    ethical issues in data science and machine learning.\n",
      "\n",
      "    In this special case, you can fetch the dataset from the original\n",
      "    source::\n",
      "\n",
      "        import pandas as pd\n",
      "        import numpy as np\n",
      "\n",
      "\n",
      "        data_url = \"http://lib.stat.cmu.edu/datasets/boston\"\n",
      "        raw_df = pd.read_csv(data_url, sep=\"\\s+\", skiprows=22, header=None)\n",
      "        data = np.hstack([raw_df.values[::2, :], raw_df.values[1::2, :2]])\n",
      "        target = raw_df.values[1::2, 2]\n",
      "\n",
      "    Alternative datasets include the California housing dataset (i.e.\n",
      "    :func:`~sklearn.datasets.fetch_california_housing`) and the Ames housing\n",
      "    dataset. You can load the datasets as follows::\n",
      "\n",
      "        from sklearn.datasets import fetch_california_housing\n",
      "        housing = fetch_california_housing()\n",
      "\n",
      "    for the California housing dataset and::\n",
      "\n",
      "        from sklearn.datasets import fetch_openml\n",
      "        housing = fetch_openml(name=\"house_prices\", as_frame=True)\n",
      "\n",
      "    for the Ames housing dataset.\n",
      "    \n",
      "  warnings.warn(msg, category=FutureWarning)\n"
     ]
    }
   ],
   "source": [
    "x,y = load_boston(return_X_y = True)\n",
    "feature_names=load_boston().feature_names\n",
    "d = pd.DataFrame(x, columns = feature_names)\n",
    "d[\"MEDV\"]=y\n",
    "print(d)\n",
    "# p = sns.pairplot(d)"
   ]
  },
  {
   "cell_type": "markdown",
   "id": "16080231",
   "metadata": {},
   "source": [
    "### 3.2 Preprocessing\n",
    "The scikit-learn has a [preprocessing](https://scikit-learn.org/stable/modules/preprocessing.html) package which provides several common functions to change the raw data into something more suitable for the machine learning algorithm. In general, learning algorithms benefit from standardisation of the dataset or if some outliers are present then robust scalers or transformers are more appropriate.\n",
    "\n",
    "Standardise the Boston training dataset loaded in the previous exercise using [StandardScaler](https://scikit-learn.org/stable/modules/generated/sklearn.preprocessing.StandardScaler.html#sklearn.preprocessing.StandardScaler). Check the features have zero mean and unit variance/standard deviation."
   ]
  },
  {
   "cell_type": "code",
   "execution_count": 3,
   "id": "5c27ee00",
   "metadata": {},
   "outputs": [
    {
     "name": "stdout",
     "output_type": "stream",
     "text": [
      "mean:\n",
      "[3.61352356e+00 1.13636364e+01 1.11367787e+01 6.91699605e-02\n",
      " 5.54695059e-01 6.28463439e+00 6.85749012e+01 3.79504269e+00\n",
      " 9.54940711e+00 4.08237154e+02 1.84555336e+01 3.56674032e+02\n",
      " 1.26530632e+01 2.25328063e+01]\n",
      "transformed:\n",
      "1.0000000000000002\n",
      "-1.8255050523480835e-16\n"
     ]
    }
   ],
   "source": [
    "scaler = StandardScaler()\n",
    "fitted_d = scaler.fit(d)\n",
    "trans_d = scaler.fit_transform(d)\n",
    "# print(\"scale:\")\n",
    "# print(fitted_d.scale_)\n",
    "\n",
    "# print(fitted_d)\n",
    "print(\"mean:\")\n",
    "print(fitted_d.mean_)\n",
    "print(\"transformed:\")\n",
    "print(trans_d.var())\n",
    "print(trans_d.mean())"
   ]
  },
  {
   "cell_type": "markdown",
   "id": "e9d84681",
   "metadata": {},
   "source": [
    "### 3.3 Train Test Split\n",
    "Training and evaluating a model on the same dataset will lead to overfitting and poor performance on unseen data. To measure the generalisation ability of a model, it is common practice to hold out part of the available data as a test set. Scikit-learn provides a [train_test_split](https://scikit-learn.org/stable/modules/generated/sklearn.model_selection.train_test_split.html#sklearn.model_selection.train_test_split) function which performs a random split into training and testing sets.\n",
    "\n",
    "When evaluating different hyperparameters for machine learning models then there is still a risk of overfitting on the test set because the parameters can be tweaked until the model performs optimally. To solve this problem, yet another part of the dataset can be held out as a so-called validation set which is used for evaluating hyperparameter values before final evaluation can be done on the test set. However, this can drastically reduce the number of samples which can be used for model training and the performance depends on the training and validation splits. To get round this problem cross-validation can be used which trains multiple models on \"folds\" of the training set, read about cross-validation in scikit-learn [here](https://scikit-learn.org/stable/modules/cross_validation.html#cross-validation).\n",
    "\n",
    "Your task is to split the Boston (scaled) training data set so 70% of the data is for training and the remaining 30% to test.\n",
    "\n",
    "How many training examples are there in the training and test sets?\n",
    "\n",
    "Should the <code>random_state</code> parameter be specified for the <code>train_test_split</code> function?"
   ]
  },
  {
   "cell_type": "code",
   "execution_count": 11,
   "id": "58db32ad",
   "metadata": {},
   "outputs": [
    {
     "name": "stdout",
     "output_type": "stream",
     "text": [
      "Training set size: 354\n",
      "Test set size: 152\n",
      "(354, 14)\n",
      "(152, 14)\n"
     ]
    }
   ],
   "source": [
    "x_train, x_test, y_train, y_test = train_test_split(trans_d, y, test_size = 0.3, train_size = 0.7, random_state = True)\n",
    "print('Training set size:', len(x_train))\n",
    "print('Test set size:', len(x_test))\n",
    "\n",
    "print(x_train.shape)\n",
    "print(x_test.shape)\n",
    "# TODO: Cross_validation"
   ]
  },
  {
   "cell_type": "markdown",
   "id": "8d56d3c8",
   "metadata": {},
   "source": [
    "### 3.4 Model Fitting\n",
    "Scikit-learn provides many built-in machine learning algorithms and models, called estimators. An estimator is any object that learns from data; it may be a classification, regression or clustering algorithm or a transformer that extracts/filters useful features from raw data. Each estimator can be fitted to some data using its fit method, as was done on the previous exercise to standardise the raw data.\n",
    "\n",
    "Fit a simple [linear regression](https://scikit-learn.org/stable/modules/generated/sklearn.linear_model.LinearRegression.html) model to the training data from the train-test split.\n",
    "\n",
    "Print the linear model coefficients."
   ]
  },
  {
   "cell_type": "code",
   "execution_count": 9,
   "id": "b5a8d032",
   "metadata": {
    "scrolled": false
   },
   "outputs": [
    {
     "name": "stdout",
     "output_type": "stream",
     "text": [
      "[ 3.90416529e-16 -1.49547900e-16  1.49615139e-15 -4.55463770e-15\n",
      "  5.05109649e-15 -4.25611633e-15  3.76926500e-16 -1.64627503e-16\n",
      "  1.83018090e-15  8.80695148e-16  4.73279123e-15 -1.42551175e-15\n",
      "  6.36733727e-15  9.18801155e+00]\n"
     ]
    }
   ],
   "source": [
    "linear_reg = LinearRegression()\n",
    "x_reg = linear_reg.fit(x_train,y_train)\n",
    "co = linear_reg.coef_\n",
    "print(co)"
   ]
  },
  {
   "cell_type": "markdown",
   "id": "8be54d55",
   "metadata": {},
   "source": [
    "### 3.5 Model Evaluation\n",
    "Scikit-learn supports simple and quick evaluation of machine learning models using the [metrics](https://scikit-learn.org/stable/modules/classes.html#module-sklearn.metrics) module which quantifies the quality of predictions.\n",
    "\n",
    "Calculate the root mean squared error (RMSE) of both the training and test sets for the linear model. Is the model overfitting?\n",
    "\n",
    "Also, plot the model predictions on a [scatter plot](https://matplotlib.org/3.2.2/api/_as_gen/matplotlib.pyplot.scatter.html?highlight=scatter#matplotlib.pyplot.scatter) alongside the real values for the test data. All the data points would lie on a diagonal (prediction = real) if the model was 100% accurate."
   ]
  },
  {
   "cell_type": "code",
   "execution_count": null,
   "id": "4d5f7a1a",
   "metadata": {},
   "outputs": [],
   "source": []
  }
 ],
 "metadata": {
  "kernelspec": {
   "display_name": "Python 3 (ipykernel)",
   "language": "python",
   "name": "python3"
  },
  "language_info": {
   "codemirror_mode": {
    "name": "ipython",
    "version": 3
   },
   "file_extension": ".py",
   "mimetype": "text/x-python",
   "name": "python",
   "nbconvert_exporter": "python",
   "pygments_lexer": "ipython3",
   "version": "3.9.12"
  }
 },
 "nbformat": 4,
 "nbformat_minor": 5
}
